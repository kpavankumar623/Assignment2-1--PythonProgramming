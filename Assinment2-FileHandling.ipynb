{
 "cells": [
  {
   "cell_type": "code",
   "execution_count": 15,
   "metadata": {},
   "outputs": [
    {
     "name": "stdout",
     "output_type": "stream",
     "text": [
      "219\n",
      "234\n"
     ]
    }
   ],
   "source": [
    "#problem19\n",
    "fp1 = open(\"untitled.txt\",\"r\",encoding = \"utf-8\")\n",
    "fp2 = open(\"untitled1.txt\",\"r\",encoding = \"utf-8\")\n",
    "\n",
    "fp = open(\"untitled2.txt\",\"a+\",encoding = \"utf-8\")\n",
    "\n",
    "read1 = fp1.read()\n",
    "wr1 = fp.write(read1)\n",
    "read2 = fp2.read()\n",
    "wr2 = fp.write(read2)\n",
    "print(wr1)\n",
    "print(wr2)\n"
   ]
  },
  {
   "cell_type": "code",
   "execution_count": 17,
   "metadata": {},
   "outputs": [],
   "source": [
    "#problem20\n",
    "fp = open(\"untitled2.txt\",\"w+\",encoding= \"utf-8\")\n",
    "\n",
    "readf = fp.readlines()\n",
    "for i in readf:\n",
    "    if i == \"\\n\":\n",
    "        readf.remove(i)\n",
    "fp.writelines(readf)\n"
   ]
  },
  {
   "cell_type": "code",
   "execution_count": 24,
   "metadata": {},
   "outputs": [],
   "source": [
    "#problem21\n",
    "\n",
    "fp1 = open(\"untitled.txt\",\"r\", encoding = \"utf-8\")\n",
    "fp2 = open(\"untitled1.txt\", \"r\", encoding = \"utf-8\")\n",
    "\n",
    "fp = open(\"untitled2.txt\",\"a+\",encoding = \"utf-8\")\n",
    "read1 = fp1.readlines()\n",
    "read2 = fp2.readlines()\n",
    "\n",
    "for i,j in zip(read1,read2):\n",
    "    fp.write(i.strip()+j.strip())\n",
    "    \n"
   ]
  },
  {
   "cell_type": "code",
   "execution_count": 68,
   "metadata": {},
   "outputs": [
    {
     "name": "stdout",
     "output_type": "stream",
     "text": [
      "Enter the Ticket No: INC12KKP\n",
      "INC12KKP==> Valid Ticket Number\n"
     ]
    }
   ],
   "source": [
    "#problem22\n",
    "\n",
    "import re\n",
    "\n",
    "regex = re.compile(\"^INC(?=.*[A-Z])(?=.*[0-9])[A-Z0-9]{5}$\")\n",
    "ticket = input(\"Enter the Ticket No: \")\n",
    "\n",
    "l = re.search(regex,ticket)\n",
    "if l:\n",
    "    print(\"{}==> Valid Ticket Number\".format(ticket))\n",
    "else:\n",
    "     print(\"{}==> InValid Ticket Number\".format(ticket))\n"
   ]
  },
  {
   "cell_type": "code",
   "execution_count": 67,
   "metadata": {},
   "outputs": [
    {
     "name": "stdout",
     "output_type": "stream",
     "text": [
      "Enter the password: Pavan@12\n",
      "Pavan@12==> Valid Password\n"
     ]
    }
   ],
   "source": [
    "#problem23\n",
    "\n",
    "import re\n",
    "\n",
    "regex = re.compile(\"^(?=.*[A-Z])(?=.*[0-9])(?=.*[@!_$#])[A-Za-z0-9@!_$#]{6,12}$\")\n",
    "password = input(\"Enter the password: \")\n",
    "\n",
    "l = re.search(regex,password)\n",
    "if l:\n",
    "    print(\"{}==> Valid Password\".format(password))\n",
    "else:\n",
    "     print(\"{}==> InValid Password\".format(password))\n"
   ]
  },
  {
   "cell_type": "code",
   "execution_count": 71,
   "metadata": {},
   "outputs": [
    {
     "name": "stdout",
     "output_type": "stream",
     "text": [
      "Enter phone number: +91987654\n",
      "+91987654==> Valid Phone Number\n"
     ]
    }
   ],
   "source": [
    "#problem24\n",
    "\n",
    "import re \n",
    "\n",
    "regex = re.compile(\"^\\+[0-9]{2}[0-9]{4,15}$\")\n",
    "phoneno = input(\"Enter phone number: \")\n",
    "\n",
    "l = re.search(regex,phoneno)\n",
    "\n",
    "if l:\n",
    "    print(\"{}==> Valid Phone Number\".format(phoneno))\n",
    "else:\n",
    "     print(\"{}==> InValid Phone number\".format(phoneno))\n"
   ]
  }
 ],
 "metadata": {
  "kernelspec": {
   "display_name": "Python 3",
   "language": "python",
   "name": "python3"
  },
  "language_info": {
   "codemirror_mode": {
    "name": "ipython",
    "version": 3
   },
   "file_extension": ".py",
   "mimetype": "text/x-python",
   "name": "python",
   "nbconvert_exporter": "python",
   "pygments_lexer": "ipython3",
   "version": "3.7.4"
  }
 },
 "nbformat": 4,
 "nbformat_minor": 2
}
